{
 "cells": [
  {
   "cell_type": "code",
   "execution_count": 1,
   "id": "dacaa36e",
   "metadata": {},
   "outputs": [],
   "source": [
    "from bs4 import BeautifulSoup\n",
    "import requests\n",
    "import smtplib\n",
    "import time\n",
    "import datetime"
   ]
  },
  {
   "cell_type": "code",
   "execution_count": 2,
   "id": "4c1246d0",
   "metadata": {},
   "outputs": [],
   "source": [
    "#Connect to Website\n",
    "url='https://www.amazon.in/GLORYBOYZ-Relaxed-Tropical-Hawaiian-Electric/dp/B0BR62LW16/ref=sr_1_1_sspa?crid=3TF251LP5AYXI&dib=eyJ2IjoiMSJ9.wIGOOkqry3_uQxXa-miLs-Tc4DE9DP-K1lZc8c9ipNNQK7LJbiH9ECn2JjxDam1EGZjV5uyNR2c07ddxpF0I2YJuiiqia_SS_ZYjWSu6AV_27TrdNV4X29aCVwjZXXpw6_V__IyaFYui0b5Hw0pJAzJcAhlagg30RgyJ6bezGdSzH3E74VN8yD27mvCu5hejnOjdbIMvgEVNycA19SVoh2Ku18eEpYUZEr88Oi3coSgsE8r11crnCqANaNoCKPtxRMWDYWDlgZZ910YV8i-Kufg1Axf1RYo12A7PLpRVA8Q._AGqheTsgTMhGF2q2BKfxkh0Tv3GflfITJ6WuultM_Q&dib_tag=se&keywords=Designer+shirts&qid=1710063949&sprefix=designer+shirt%2Caps%2C353&sr=8-1-spons&sp_csd=d2lkZ2V0TmFtZT1zcF9hdGY&psc=1'\n",
    "\n",
    "headers={\"User-Agent\":\"Mozilla/5.0 (Windows NT 10.0; Win64; x64) AppleWebKit/537.36 (KHTML, like Gecko) Chrome/122.0.0.0 Safari/537.36 Edg/122.0.0.0\",\"Accept\": \"text/html,application/xhtml+xml,application/xml;q=0.9,image/avif,image/webp,image/apng,*/*;q=0.8,application/signed-exchange;v=b3;q=0.7\",\"Accept-Encoding\": \"gzip, deflate, br\",\"Upgrade-Insecure-Requests\": \"1\"}\n",
    "\n",
    "page=requests.get(url,headers=headers)\n",
    "\n",
    "soup1= BeautifulSoup(page.content,\"html.parser\")\n",
    "\n",
    "soup2 = BeautifulSoup(soup1.prettify(),\"html.parser\")\n",
    "\n",
    "title = soup2.find(id=\"productTitle\").get_text()\n",
    "\n",
    "#print(title)\n"
   ]
  },
  {
   "cell_type": "code",
   "execution_count": 3,
   "id": "c03c8339",
   "metadata": {},
   "outputs": [
    {
     "name": "stdout",
     "output_type": "stream",
     "text": [
      "\n",
      "                     GLORYBOYZ Men's Half Sleeve Relaxed Fit Trendy Stylish Soft Comfortable Fabric Classic Designer Shirt Fashion Tropical Printed Hawaiian\n",
      "                    \n"
     ]
    }
   ],
   "source": [
    "print(title)"
   ]
  },
  {
   "cell_type": "code",
   "execution_count": 4,
   "id": "1932c668",
   "metadata": {},
   "outputs": [
    {
     "name": "stdout",
     "output_type": "stream",
     "text": [
      "\n",
      "                     GLORYBOYZ Men's Half Sleeve Relaxed Fit Trendy Stylish Soft Comfortable Fabric Classic Designer Shirt Fashion Tropical Printed Hawaiian\n",
      "                    \n"
     ]
    }
   ],
   "source": [
    "print(title)"
   ]
  },
  {
   "cell_type": "code",
   "execution_count": 5,
   "id": "55fd8d66",
   "metadata": {},
   "outputs": [],
   "source": [
    "price = soup2.find(class_=\"a-price-whole\").get_text()"
   ]
  },
  {
   "cell_type": "code",
   "execution_count": 6,
   "id": "5452dec6",
   "metadata": {},
   "outputs": [
    {
     "name": "stdout",
     "output_type": "stream",
     "text": [
      "\n",
      "                       764\n",
      "                      \n"
     ]
    }
   ],
   "source": [
    "print(price)"
   ]
  },
  {
   "cell_type": "code",
   "execution_count": 7,
   "id": "df841183",
   "metadata": {},
   "outputs": [
    {
     "name": "stdout",
     "output_type": "stream",
     "text": [
      "\n",
      "                     GLORYBOYZ Men's Half Sleeve Relaxed Fit Trendy Stylish Soft Comfortable Fabric Classic Designer Shirt Fashion Tropical Printed Hawaiian\n",
      "                    \n",
      "\n",
      "                       764\n",
      "                      \n"
     ]
    }
   ],
   "source": [
    "print(title)\n",
    "print(price)"
   ]
  },
  {
   "cell_type": "code",
   "execution_count": 8,
   "id": "5974c119",
   "metadata": {},
   "outputs": [
    {
     "name": "stdout",
     "output_type": "stream",
     "text": [
      "2024-03-18\n"
     ]
    }
   ],
   "source": [
    "import datetime\n",
    "today=datetime.date.today()\n",
    "print(today)"
   ]
  },
  {
   "cell_type": "code",
   "execution_count": 9,
   "id": "d692e47c",
   "metadata": {},
   "outputs": [],
   "source": [
    "import csv\n",
    "\n",
    "header= ['Title', 'Price','Date']\n",
    "data= [title,price,today]\n",
    "\n",
    "with open('Amazon product dataset.csv','w',newline=\"\",encoding='UTF8') as f:\n",
    "    writer=csv.writer(f)\n",
    "    writer.writerow(header)\n",
    "    writer.writerow(data)"
   ]
  },
  {
   "cell_type": "code",
   "execution_count": 10,
   "id": "e4aa6122",
   "metadata": {},
   "outputs": [
    {
     "data": {
      "text/html": [
       "<div>\n",
       "<style scoped>\n",
       "    .dataframe tbody tr th:only-of-type {\n",
       "        vertical-align: middle;\n",
       "    }\n",
       "\n",
       "    .dataframe tbody tr th {\n",
       "        vertical-align: top;\n",
       "    }\n",
       "\n",
       "    .dataframe thead th {\n",
       "        text-align: right;\n",
       "    }\n",
       "</style>\n",
       "<table border=\"1\" class=\"dataframe\">\n",
       "  <thead>\n",
       "    <tr style=\"text-align: right;\">\n",
       "      <th></th>\n",
       "      <th>Title</th>\n",
       "      <th>Price</th>\n",
       "      <th>Date</th>\n",
       "    </tr>\n",
       "  </thead>\n",
       "  <tbody>\n",
       "    <tr>\n",
       "      <th>0</th>\n",
       "      <td>\\n                     GLORYBOYZ Men's Half Sl...</td>\n",
       "      <td>764</td>\n",
       "      <td>2024-03-18</td>\n",
       "    </tr>\n",
       "  </tbody>\n",
       "</table>\n",
       "</div>"
      ],
      "text/plain": [
       "                                               Title  Price        Date\n",
       "0  \\n                     GLORYBOYZ Men's Half Sl...    764  2024-03-18"
      ]
     },
     "execution_count": 10,
     "metadata": {},
     "output_type": "execute_result"
    }
   ],
   "source": [
    "import pandas as pd\n",
    "\n",
    "df=pd.read_csv(r'C:\\Users\\Muzzammil\\Desktop\\Portfolio Project\\Amazon product dataset.csv')\n",
    "df"
   ]
  },
  {
   "cell_type": "code",
   "execution_count": 11,
   "id": "7e7f08b5",
   "metadata": {},
   "outputs": [
    {
     "name": "stdout",
     "output_type": "stream",
     "text": [
      "2024-03-18\n"
     ]
    }
   ],
   "source": [
    "import datetime\n",
    "today=datetime.date.today()\n",
    "print(today)"
   ]
  },
  {
   "cell_type": "code",
   "execution_count": 12,
   "id": "5ac4cfc7",
   "metadata": {},
   "outputs": [],
   "source": [
    "#Now we are appending data to csv\n",
    "with open('Amazon product dataset.csv','a+',newline=\"\",encoding='UTF8') as f:\n",
    "    writer=csv.writer(f)\n",
    "    writer.writerow(data)"
   ]
  },
  {
   "cell_type": "code",
   "execution_count": 25,
   "id": "7c624ee9",
   "metadata": {},
   "outputs": [],
   "source": [
    "def check_price():\n",
    "    url='https://www.amazon.in/GLORYBOYZ-Relaxed-Tropical-Hawaiian-Electric/dp/B0BR62LW16/ref=sr_1_1_sspa?crid=3TF251LP5AYXI&dib=eyJ2IjoiMSJ9.wIGOOkqry3_uQxXa-miLs-Tc4DE9DP-K1lZc8c9ipNNQK7LJbiH9ECn2JjxDam1EGZjV5uyNR2c07ddxpF0I2YJuiiqia_SS_ZYjWSu6AV_27TrdNV4X29aCVwjZXXpw6_V__IyaFYui0b5Hw0pJAzJcAhlagg30RgyJ6bezGdSzH3E74VN8yD27mvCu5hejnOjdbIMvgEVNycA19SVoh2Ku18eEpYUZEr88Oi3coSgsE8r11crnCqANaNoCKPtxRMWDYWDlgZZ910YV8i-Kufg1Axf1RYo12A7PLpRVA8Q._AGqheTsgTMhGF2q2BKfxkh0Tv3GflfITJ6WuultM_Q&dib_tag=se&keywords=Designer+shirts&qid=1710063949&sprefix=designer+shirt%2Caps%2C353&sr=8-1-spons&sp_csd=d2lkZ2V0TmFtZT1zcF9hdGY&psc=1'\n",
    "\n",
    "    headers={\"User-Agent\":\"Mozilla/5.0 (Windows NT 10.0; Win64; x64) AppleWebKit/537.36 (KHTML, like Gecko) Chrome/122.0.0.0 Safari/537.36 Edg/122.0.0.0\",\"Accept\": \"text/html,application/xhtml+xml,application/xml;q=0.9,image/avif,image/webp,image/apng,*/*;q=0.8,application/signed-exchange;v=b3;q=0.7\",\"Accept-Encoding\": \"gzip, deflate, br\",\"Upgrade-Insecure-Requests\": \"1\"}\n",
    "\n",
    "    page=requests.get(url,headers=headers)\n",
    "\n",
    "    soup1= BeautifulSoup(page.content,\"html.parser\")\n",
    "\n",
    "    soup2 = BeautifulSoup(soup1.prettify(),\"html.parser\")\n",
    "\n",
    "    title = soup2.find(id=\"productTitle\").get_text()\n",
    "    \n",
    "    price = soup2.find(class_=\"a-price-whole\").get_text()\n",
    "    \n",
    "    import datetime\n",
    "    \n",
    "    today=datetime.date.today()\n",
    "    \n",
    "    import csv\n",
    "\n",
    "    header= ['Title', 'Price','Date']\n",
    "    data= [title,price,today]\n",
    "    \n",
    "    with open('Amazon product dataset.csv','a+',newline=\"\",encoding='UTF8') as f:\n",
    "        writer=csv.writer(f)\n",
    "        writer.writerow(data)\n",
    "        \n",
    "    \n",
    "\n",
    "    "
   ]
  },
  {
   "cell_type": "code",
   "execution_count": null,
   "id": "fd073593",
   "metadata": {},
   "outputs": [],
   "source": [
    "while(True):\n",
    "    check_price()\n",
    "    time.sleep(86400)"
   ]
  },
  {
   "cell_type": "code",
   "execution_count": null,
   "id": "533513c4",
   "metadata": {},
   "outputs": [],
   "source": []
  }
 ],
 "metadata": {
  "kernelspec": {
   "display_name": "Python 3 (ipykernel)",
   "language": "python",
   "name": "python3"
  },
  "language_info": {
   "codemirror_mode": {
    "name": "ipython",
    "version": 3
   },
   "file_extension": ".py",
   "mimetype": "text/x-python",
   "name": "python",
   "nbconvert_exporter": "python",
   "pygments_lexer": "ipython3",
   "version": "3.10.6"
  }
 },
 "nbformat": 4,
 "nbformat_minor": 5
}
